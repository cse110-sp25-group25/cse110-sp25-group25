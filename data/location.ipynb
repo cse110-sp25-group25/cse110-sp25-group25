{
 "cells": [
  {
   "cell_type": "code",
   "execution_count": 4,
   "metadata": {},
   "outputs": [],
   "source": [
    "import requests\n",
    "import json\n",
    "import time\n",
    "import os"
   ]
  },
  {
   "cell_type": "code",
   "execution_count": 12,
   "metadata": {},
   "outputs": [],
   "source": [
    "YELP_API_KEY = os.getenv(\"YELP_API_KEY\")\n",
    "\n",
    "HEADERS = {\"Authorization\": f\"Bearer {YELP_API_KEY}\"}"
   ]
  },
  {
   "cell_type": "code",
   "execution_count": 14,
   "metadata": {},
   "outputs": [],
   "source": [
    "with open(\"restaurants.json\", \"r\") as f:\n",
    "    restaurants = json.load(f)"
   ]
  },
  {
   "cell_type": "code",
   "execution_count": 19,
   "metadata": {},
   "outputs": [],
   "source": [
    "def get_full_address(restaurant):\n",
    "    try:\n",
    "        query_params = {\n",
    "            \"term\": restaurant[\"name\"],\n",
    "            \"location\": \"San Diego, CA\",\n",
    "            \"limit\": 1,\n",
    "        }\n",
    "        response = requests.get(\n",
    "            \"https://api.yelp.com/v3/businesses/search\",\n",
    "            headers=HEADERS,\n",
    "            params=query_params\n",
    "        )\n",
    "        response.raise_for_status()\n",
    "        businesses = response.json().get(\"businesses\", [])\n",
    "        if not businesses:\n",
    "            print(f\"No match found for: {restaurant['name']}\")\n",
    "            return restaurant\n",
    "\n",
    "        business_id = businesses[0][\"id\"]\n",
    "        details = requests.get(\n",
    "            f\"https://api.yelp.com/v3/businesses/{business_id}\",\n",
    "            headers=HEADERS\n",
    "        )\n",
    "        details.raise_for_status()\n",
    "        full_address = \", \".join(details.json()[\"location\"][\"display_address\"])\n",
    "        restaurant[\"location\"] = full_address\n",
    "        return restaurant\n",
    "    except Exception as e:\n",
    "        print(f\"Error for {restaurant['name']}: {e}\")\n",
    "        return restaurant\n"
   ]
  },
  {
   "cell_type": "code",
   "execution_count": 20,
   "metadata": {},
   "outputs": [
    {
     "name": "stdout",
     "output_type": "stream",
     "text": [
      "No match found for: Chungchun Ssal Hot Dog\n",
      "No match found for: Kjodo BBQ\n"
     ]
    }
   ],
   "source": [
    "updated_restaurants = []\n",
    "for r in restaurants:\n",
    "    enriched = get_full_address(r)\n",
    "    updated_restaurants.append(enriched)\n",
    "    time.sleep(0.5) # to avoid hitting rate limits\n"
   ]
  },
  {
   "cell_type": "code",
   "execution_count": 22,
   "metadata": {},
   "outputs": [],
   "source": [
    "with open(\"restaurants.json\", \"w\") as f:\n",
    "    json.dump(updated_restaurants, f, indent=2)"
   ]
  },
  {
   "cell_type": "code",
   "execution_count": null,
   "metadata": {},
   "outputs": [],
   "source": []
  }
 ],
 "metadata": {
  "kernelspec": {
   "display_name": "cogs118a",
   "language": "python",
   "name": "python3"
  },
  "language_info": {
   "codemirror_mode": {
    "name": "ipython",
    "version": 3
   },
   "file_extension": ".py",
   "mimetype": "text/x-python",
   "name": "python",
   "nbconvert_exporter": "python",
   "pygments_lexer": "ipython3",
   "version": "3.12.2"
  }
 },
 "nbformat": 4,
 "nbformat_minor": 2
}
