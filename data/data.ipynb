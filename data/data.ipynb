{
 "cells": [
  {
   "cell_type": "code",
   "execution_count": 3,
   "metadata": {},
   "outputs": [],
   "source": [
    "\n",
    "\n",
    "\n"
   ]
  },
  {
   "cell_type": "code",
   "execution_count": 4,
   "metadata": {},
   "outputs": [],
   "source": [
    "import os\n",
    "import json\n",
    "from datetime import datetime\n",
    "from typing import List, Dict\n",
    "\n",
    "import requests\n",
    "\n",
    "API_KEY = os.getenv(\"YELP_API_KEY\")\n",
    "if not API_KEY:\n",
    "    raise EnvironmentError(\"Missing YELP_API_KEY env var\")"
   ]
  },
  {
   "cell_type": "code",
   "execution_count": 5,
   "metadata": {},
   "outputs": [],
   "source": [
    "LATITUDE  = 32.8801                         # UC-San Diego (Geisel Library)\n",
    "LONGITUDE = -117.2340\n",
    "RADIUS_M  = 4000     \n",
    "HEADERS = {\"Authorization\": f\"Bearer {API_KEY}\"}\n",
    "SEARCH_URL = \"https://api.yelp.com/v3/businesses/search\"\n",
    "DETAIL_URL = \"https://api.yelp.com/v3/businesses/{}\"\n",
    "REVIEWS_URL = \"https://api.yelp.com/v3/businesses/{}/reviews\""
   ]
  },
  {
   "cell_type": "code",
   "execution_count": 10,
   "metadata": {},
   "outputs": [],
   "source": [
    "def _close_str(business: Dict) -> str:\n",
    "    \"\"\"Return 'Open until 9:00 PM'-style string for today, or '' if unknown.\"\"\"\n",
    "    hours = business.get(\"hours\")\n",
    "    if not hours:\n",
    "        return \"\"\n",
    "    today = datetime.now().weekday()  # 0 = Mon\n",
    "    period = next(\n",
    "        (p for p in hours[0][\"open\"] if p[\"day\"] == today), None\n",
    "    )\n",
    "    if not period:\n",
    "        return \"\"\n",
    "    close = period[\"end\"]  # e.g. '2130'\n",
    "    hh, mm = int(close[:2]), close[2:]\n",
    "    suffix = \"PM\" if hh >= 12 else \"AM\"\n",
    "    hh = hh if 1 <= hh <= 12 else abs(hh - 12)\n",
    "    return f\"Open until {hh}:{mm} {suffix}\"\n",
    "\n",
    "\n",
    "def fetch_restaurants(limit: int = 500) -> List[Dict]:\n",
    "    params = {\n",
    "        \"latitude\":  LATITUDE,\n",
    "        \"longitude\": LONGITUDE,\n",
    "        \"radius\":    RADIUS_M,     \n",
    "        \"categories\": \"restaurants\",\n",
    "        \"limit\": limit,\n",
    "        \"sort_by\": \"rating\",\n",
    "    }\n",
    "    resp = requests.get(SEARCH_URL, headers=HEADERS, params=params)\n",
    "    resp.raise_for_status()\n",
    "    return resp.json().get(\"businesses\", [])\n",
    "\n",
    "\n",
    "def build_entry(biz: Dict, idx: int) -> Dict:\n",
    "    # Enrich with business detail & reviews\n",
    "    bid = biz[\"id\"]\n",
    "    detail = requests.get(DETAIL_URL.format(bid), headers=HEADERS).json()\n",
    "    reviews = requests.get(REVIEWS_URL.format(bid), headers=HEADERS).json().get(\"reviews\", [])\n",
    "\n",
    "    # Helper values\n",
    "    miles = round(biz.get(\"distance\", 0) / 1609.34, 1)  # meters → miles\n",
    "    cuisine = detail[\"categories\"][0][\"title\"] if detail.get(\"categories\") else \"\"\n",
    "    neigh = detail[\"location\"].get(\"neighborhoods\") or []\n",
    "    location = neigh[0] if neigh else detail[\"location\"].get(\"city\", \"San Diego\")\n",
    "\n",
    "    entry = {\n",
    "        \"id\": idx,\n",
    "        \"name\": detail[\"name\"],\n",
    "        \"cuisine\": cuisine,\n",
    "        \"price\": detail.get(\"price\", \"\"),\n",
    "        \"distance\": miles,\n",
    "        \"rating\": detail[\"rating\"],\n",
    "        \"location\": location,\n",
    "        \"phone\": detail.get(\"display_phone\", \"\"),\n",
    "        \"hours\": _close_str(detail),\n",
    "        \"image\": detail.get(\"image_url\", \"\"),\n",
    "        \"menuImages\": detail.get(\"photos\", [])[:3],\n",
    "        \"reviews\": [\n",
    "            {\"text\": r[\"text\"], \"author\": r[\"user\"][\"name\"]} for r in reviews\n",
    "        ][:6],  # Yelp returns up to 3; truncate/pad below\n",
    "    }\n",
    "\n",
    "    # Pad to exactly 6 review slots if necessary\n",
    "    while len(entry[\"reviews\"]) < 6:\n",
    "        entry[\"reviews\"].append({\"text\": \"\", \"author\": \"\"})\n",
    "\n",
    "    return entry\n"
   ]
  },
  {
   "cell_type": "code",
   "execution_count": 12,
   "metadata": {},
   "outputs": [
    {
     "ename": "HTTPError",
     "evalue": "400 Client Error: Bad Request for url: https://api.yelp.com/v3/businesses/search?latitude=32.8801&longitude=-117.234&radius=4000&categories=restaurants&limit=500&sort_by=rating",
     "output_type": "error",
     "traceback": [
      "\u001b[0;31m---------------------------------------------------------------------------\u001b[0m",
      "\u001b[0;31mHTTPError\u001b[0m                                 Traceback (most recent call last)",
      "Cell \u001b[0;32mIn[12], line 1\u001b[0m\n\u001b[0;32m----> 1\u001b[0m raw \u001b[38;5;241m=\u001b[39m \u001b[43mfetch_restaurants\u001b[49m\u001b[43m(\u001b[49m\u001b[43m)\u001b[49m\n",
      "Cell \u001b[0;32mIn[10], line 29\u001b[0m, in \u001b[0;36mfetch_restaurants\u001b[0;34m(limit)\u001b[0m\n\u001b[1;32m     20\u001b[0m params \u001b[38;5;241m=\u001b[39m {\n\u001b[1;32m     21\u001b[0m     \u001b[38;5;124m\"\u001b[39m\u001b[38;5;124mlatitude\u001b[39m\u001b[38;5;124m\"\u001b[39m:  LATITUDE,\n\u001b[1;32m     22\u001b[0m     \u001b[38;5;124m\"\u001b[39m\u001b[38;5;124mlongitude\u001b[39m\u001b[38;5;124m\"\u001b[39m: LONGITUDE,\n\u001b[0;32m   (...)\u001b[0m\n\u001b[1;32m     26\u001b[0m     \u001b[38;5;124m\"\u001b[39m\u001b[38;5;124msort_by\u001b[39m\u001b[38;5;124m\"\u001b[39m: \u001b[38;5;124m\"\u001b[39m\u001b[38;5;124mrating\u001b[39m\u001b[38;5;124m\"\u001b[39m,\n\u001b[1;32m     27\u001b[0m }\n\u001b[1;32m     28\u001b[0m resp \u001b[38;5;241m=\u001b[39m requests\u001b[38;5;241m.\u001b[39mget(SEARCH_URL, headers\u001b[38;5;241m=\u001b[39mHEADERS, params\u001b[38;5;241m=\u001b[39mparams)\n\u001b[0;32m---> 29\u001b[0m \u001b[43mresp\u001b[49m\u001b[38;5;241;43m.\u001b[39;49m\u001b[43mraise_for_status\u001b[49m\u001b[43m(\u001b[49m\u001b[43m)\u001b[49m\n\u001b[1;32m     30\u001b[0m \u001b[38;5;28;01mreturn\u001b[39;00m resp\u001b[38;5;241m.\u001b[39mjson()\u001b[38;5;241m.\u001b[39mget(\u001b[38;5;124m\"\u001b[39m\u001b[38;5;124mbusinesses\u001b[39m\u001b[38;5;124m\"\u001b[39m, [])\n",
      "File \u001b[0;32m/opt/anaconda3/envs/cogs118a/lib/python3.12/site-packages/requests/models.py:1024\u001b[0m, in \u001b[0;36mResponse.raise_for_status\u001b[0;34m(self)\u001b[0m\n\u001b[1;32m   1019\u001b[0m     http_error_msg \u001b[38;5;241m=\u001b[39m (\n\u001b[1;32m   1020\u001b[0m         \u001b[38;5;124mf\u001b[39m\u001b[38;5;124m\"\u001b[39m\u001b[38;5;132;01m{\u001b[39;00m\u001b[38;5;28mself\u001b[39m\u001b[38;5;241m.\u001b[39mstatus_code\u001b[38;5;132;01m}\u001b[39;00m\u001b[38;5;124m Server Error: \u001b[39m\u001b[38;5;132;01m{\u001b[39;00mreason\u001b[38;5;132;01m}\u001b[39;00m\u001b[38;5;124m for url: \u001b[39m\u001b[38;5;132;01m{\u001b[39;00m\u001b[38;5;28mself\u001b[39m\u001b[38;5;241m.\u001b[39murl\u001b[38;5;132;01m}\u001b[39;00m\u001b[38;5;124m\"\u001b[39m\n\u001b[1;32m   1021\u001b[0m     )\n\u001b[1;32m   1023\u001b[0m \u001b[38;5;28;01mif\u001b[39;00m http_error_msg:\n\u001b[0;32m-> 1024\u001b[0m     \u001b[38;5;28;01mraise\u001b[39;00m HTTPError(http_error_msg, response\u001b[38;5;241m=\u001b[39m\u001b[38;5;28mself\u001b[39m)\n",
      "\u001b[0;31mHTTPError\u001b[0m: 400 Client Error: Bad Request for url: https://api.yelp.com/v3/businesses/search?latitude=32.8801&longitude=-117.234&radius=4000&categories=restaurants&limit=500&sort_by=rating"
     ]
    }
   ],
   "source": [
    "raw = fetch_restaurants()\n"
   ]
  },
  {
   "cell_type": "code",
   "execution_count": 8,
   "metadata": {},
   "outputs": [],
   "source": [
    "structured = [build_entry(b, i + 1) for i, b in enumerate(raw)]"
   ]
  },
  {
   "cell_type": "code",
   "execution_count": 9,
   "metadata": {},
   "outputs": [],
   "source": [
    "with open(\"restaurants.json\", \"w\", encoding=\"utf-8\") as f:\n",
    "    json.dump(structured, f, indent=2, ensure_ascii=False)"
   ]
  },
  {
   "cell_type": "code",
   "execution_count": null,
   "metadata": {},
   "outputs": [],
   "source": []
  }
 ],
 "metadata": {
  "kernelspec": {
   "display_name": "cogs118a",
   "language": "python",
   "name": "python3"
  },
  "language_info": {
   "codemirror_mode": {
    "name": "ipython",
    "version": 3
   },
   "file_extension": ".py",
   "mimetype": "text/x-python",
   "name": "python",
   "nbconvert_exporter": "python",
   "pygments_lexer": "ipython3",
   "version": "3.12.2"
  }
 },
 "nbformat": 4,
 "nbformat_minor": 2
}
