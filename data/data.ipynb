{
 "cells": [
  {
   "cell_type": "code",
   "execution_count": 15,
   "metadata": {},
   "outputs": [],
   "source": [
    "\n",
    "\n",
    "\n"
   ]
  },
  {
   "cell_type": "code",
   "execution_count": 16,
   "metadata": {},
   "outputs": [],
   "source": [
    "import os\n",
    "import json\n",
    "from datetime import datetime\n",
    "from typing import List, Dict\n",
    "\n",
    "import requests\n",
    "\n",
    "API_KEY = os.getenv(\"YELP_API_KEY\")\n",
    "if not API_KEY:\n",
    "    raise EnvironmentError(\"Missing YELP_API_KEY env var\")"
   ]
  },
  {
   "cell_type": "code",
   "execution_count": 5,
   "metadata": {},
   "outputs": [],
   "source": [
    "LATITUDE  = 32.8801                         # UC-San Diego (Geisel Library)\n",
    "LONGITUDE = -117.2340\n",
    "RADIUS_M  = 10000     \n",
    "HEADERS = {\"Authorization\": f\"Bearer {API_KEY}\"}\n",
    "SEARCH_URL = \"https://api.yelp.com/v3/businesses/search\"\n",
    "DETAIL_URL = \"https://api.yelp.com/v3/businesses/{}\"\n",
    "REVIEWS_URL = \"https://api.yelp.com/v3/businesses/{}/reviews\""
   ]
  },
  {
   "cell_type": "code",
   "execution_count": 20,
   "metadata": {},
   "outputs": [],
   "source": [
    "def _close_str(business: Dict) -> str:\n",
    "    \"\"\"Return 'Open until 9:00 PM'-style string for today, or '' if unknown.\"\"\"\n",
    "    hours = business.get(\"hours\")\n",
    "    if not hours:\n",
    "        return \"\"\n",
    "    today = datetime.now().weekday()  # 0 = Mon\n",
    "    period = next(\n",
    "        (p for p in hours[0][\"open\"] if p[\"day\"] == today), None\n",
    "    )\n",
    "    if not period:\n",
    "        return \"\"\n",
    "    close = period[\"end\"]  # e.g. '2130'\n",
    "    hh, mm = int(close[:2]), close[2:]\n",
    "    suffix = \"PM\" if hh >= 12 else \"AM\"\n",
    "    hh = hh if 1 <= hh <= 12 else abs(hh - 12)\n",
    "    return f\"Open until {hh}:{mm} {suffix}\"\n",
    "\n",
    "\n",
    "def fetch_restaurants(max_results: int = 200) -> List[Dict]:\n",
    "    out, fetched = [], 0\n",
    "    while fetched < max_results:\n",
    "        batch_size = min(50, max_results - fetched)          # Yelp’s per-call cap\n",
    "        params = {\n",
    "            \"latitude\": LATITUDE,\n",
    "            \"longitude\": LONGITUDE,\n",
    "            \"radius\": RADIUS_M,\n",
    "            \"categories\": \"restaurants\",\n",
    "            \"limit\": batch_size,\n",
    "            \"offset\": fetched,\n",
    "            \"sort_by\": \"rating\",\n",
    "        }\n",
    "        resp = requests.get(SEARCH_URL, headers=HEADERS, params=params)\n",
    "        resp.raise_for_status()\n",
    "        items = resp.json()[\"businesses\"]\n",
    "        if not items:\n",
    "            break\n",
    "        out.extend(items)\n",
    "        fetched += len(items)\n",
    "    return out\n",
    "\n",
    "\n",
    "\n",
    "def build_entry(biz: Dict, idx: int) -> Dict:\n",
    "    # Enrich with business detail & reviews\n",
    "    bid = biz[\"id\"]\n",
    "    detail = requests.get(DETAIL_URL.format(bid), headers=HEADERS).json()\n",
    "    reviews = requests.get(REVIEWS_URL.format(bid), headers=HEADERS).json().get(\"reviews\", [])\n",
    "\n",
    "    # Helper values\n",
    "    miles = round(biz.get(\"distance\", 0) / 1609.34, 1)  # meters → miles\n",
    "    cuisine = detail[\"categories\"][0][\"title\"] if detail.get(\"categories\") else \"\"\n",
    "    neigh = detail[\"location\"].get(\"neighborhoods\") or []\n",
    "    location = neigh[0] if neigh else detail[\"location\"].get(\"city\", \"San Diego\")\n",
    "\n",
    "    entry = {\n",
    "        \"id\": idx,\n",
    "        \"name\": detail[\"name\"],\n",
    "        \"cuisine\": cuisine,\n",
    "        \"price\": detail.get(\"price\", \"\"),\n",
    "        \"distance\": miles,\n",
    "        \"rating\": detail[\"rating\"],\n",
    "        \"location\": location,\n",
    "        \"phone\": detail.get(\"display_phone\", \"\"),\n",
    "        \"hours\": _close_str(detail),\n",
    "        \"image\": detail.get(\"image_url\", \"\"),\n",
    "        \"menuImages\": detail.get(\"photos\", [])[:3],\n",
    "        \"reviews\": [\n",
    "            {\"text\": r[\"text\"], \"author\": r[\"user\"][\"name\"]} for r in reviews\n",
    "        ][:6],  # Yelp returns up to 3; truncate/pad below\n",
    "    }\n",
    "\n",
    "    # Pad to exactly 6 review slots if necessary\n",
    "    while len(entry[\"reviews\"]) < 6:\n",
    "        entry[\"reviews\"].append({\"text\": \"\", \"author\": \"\"})\n",
    "\n",
    "    return entry\n"
   ]
  },
  {
   "cell_type": "code",
   "execution_count": 21,
   "metadata": {},
   "outputs": [],
   "source": [
    "raw = fetch_restaurants()\n"
   ]
  },
  {
   "cell_type": "code",
   "execution_count": 22,
   "metadata": {},
   "outputs": [],
   "source": [
    "structured = [build_entry(b, i + 1) for i, b in enumerate(raw)]"
   ]
  },
  {
   "cell_type": "code",
   "execution_count": null,
   "metadata": {},
   "outputs": [],
   "source": [
    "with open(\"restaurants.json\", \"w\", encoding=\"utf-8\") as f:\n",
    "    json.dump(structured, f, indent=2, ensure_ascii=False)"
   ]
  },
  {
   "cell_type": "code",
   "execution_count": null,
   "metadata": {},
   "outputs": [],
   "source": []
  }
 ],
 "metadata": {
  "kernelspec": {
   "display_name": "cogs118a",
   "language": "python",
   "name": "python3"
  },
  "language_info": {
   "codemirror_mode": {
    "name": "ipython",
    "version": 3
   },
   "file_extension": ".py",
   "mimetype": "text/x-python",
   "name": "python",
   "nbconvert_exporter": "python",
   "pygments_lexer": "ipython3",
   "version": "3.12.2"
  }
 },
 "nbformat": 4,
 "nbformat_minor": 2
}
